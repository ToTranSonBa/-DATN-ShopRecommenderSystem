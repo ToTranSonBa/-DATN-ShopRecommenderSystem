{
 "cells": [
  {
   "cell_type": "code",
   "execution_count": 1,
   "metadata": {},
   "outputs": [
    {
     "name": "stderr",
     "output_type": "stream",
     "text": [
      "d:\\Python\\Python\\myenv\\Lib\\site-packages\\tqdm\\auto.py:21: TqdmWarning: IProgress not found. Please update jupyter and ipywidgets. See https://ipywidgets.readthedocs.io/en/stable/user_install.html\n",
      "  from .autonotebook import tqdm as notebook_tqdm\n"
     ]
    },
    {
     "name": "stdout",
     "output_type": "stream",
     "text": [
      "WARNING:tensorflow:From d:\\Python\\Python\\myenv\\Lib\\site-packages\\tf_keras\\src\\losses.py:2976: The name tf.losses.sparse_softmax_cross_entropy is deprecated. Please use tf.compat.v1.losses.sparse_softmax_cross_entropy instead.\n",
      "\n"
     ]
    }
   ],
   "source": [
    "import pandas as pd\n",
    "import regex as re\n",
    "import os\n",
    "import warnings\n",
    "import numpy as np\n",
    "import keras\n",
    "import tensorflow as tf\n",
    "from transformers import PhobertTokenizer, TFRobertaForSequenceClassification,AutoTokenizer, TFAutoModelForSequenceClassification, AutoModelForSequenceClassification\n",
    "from sklearn.model_selection import train_test_split\n",
    "import matplotlib.pyplot as plt\n",
    "from plotly.offline import iplot\n",
    "import seaborn as sns\n",
    "import torch"
   ]
  },
  {
   "cell_type": "code",
   "execution_count": 2,
   "metadata": {},
   "outputs": [],
   "source": [
    "def get_path(fileName):\n",
    "    \n",
    "    # Kiểm tra và tạo thư mục \"data\" nếu nó chưa tồn tại\n",
    "    data_folder = 'data'\n",
    "    if not os.path.exists(data_folder):\n",
    "        os.makedirs(data_folder)\n",
    "\n",
    "    # Đường dẫn đến tệp CSV\n",
    "    file_path = os.path.join(data_folder, fileName)\n",
    "\n",
    "    return file_path"
   ]
  },
  {
   "cell_type": "code",
   "execution_count": 3,
   "metadata": {},
   "outputs": [],
   "source": [
    "file_path = get_path('data_processed.csv')"
   ]
  },
  {
   "cell_type": "code",
   "execution_count": 4,
   "metadata": {},
   "outputs": [
    {
     "data": {
      "text/html": [
       "<div>\n",
       "<style scoped>\n",
       "    .dataframe tbody tr th:only-of-type {\n",
       "        vertical-align: middle;\n",
       "    }\n",
       "\n",
       "    .dataframe tbody tr th {\n",
       "        vertical-align: top;\n",
       "    }\n",
       "\n",
       "    .dataframe thead th {\n",
       "        text-align: right;\n",
       "    }\n",
       "</style>\n",
       "<table border=\"1\" class=\"dataframe\">\n",
       "  <thead>\n",
       "    <tr style=\"text-align: right;\">\n",
       "      <th></th>\n",
       "      <th>content</th>\n",
       "      <th>label</th>\n",
       "    </tr>\n",
       "  </thead>\n",
       "  <tbody>\n",
       "    <tr>\n",
       "      <th>0</th>\n",
       "      <td>áo bao đẹp ạ</td>\n",
       "      <td>5</td>\n",
       "    </tr>\n",
       "    <tr>\n",
       "      <th>1</th>\n",
       "      <td>tuyệt_vời</td>\n",
       "      <td>5</td>\n",
       "    </tr>\n",
       "    <tr>\n",
       "      <th>2</th>\n",
       "      <td>mùi thơm bôi lên da mềm da</td>\n",
       "      <td>5</td>\n",
       "    </tr>\n",
       "    <tr>\n",
       "      <th>3</th>\n",
       "      <td>vải đẹp dày_dặn</td>\n",
       "      <td>5</td>\n",
       "    </tr>\n",
       "    <tr>\n",
       "      <th>4</th>\n",
       "      <td>hàng rất đẹp rất chi là ưng_ý</td>\n",
       "      <td>5</td>\n",
       "    </tr>\n",
       "    <tr>\n",
       "      <th>5</th>\n",
       "      <td>chất_lượng sản_phẩm tốt date dài</td>\n",
       "      <td>5</td>\n",
       "    </tr>\n",
       "    <tr>\n",
       "      <th>6</th>\n",
       "      <td>ăn_nói và thái_độ phục_vụ tốt</td>\n",
       "      <td>4</td>\n",
       "    </tr>\n",
       "    <tr>\n",
       "      <th>7</th>\n",
       "      <td>đóng_gói sản_phẩm chắc_chắn</td>\n",
       "      <td>5</td>\n",
       "    </tr>\n",
       "    <tr>\n",
       "      <th>8</th>\n",
       "      <td>tất sờn hết ca chưa dùng mà vay r</td>\n",
       "      <td>2</td>\n",
       "    </tr>\n",
       "    <tr>\n",
       "      <th>9</th>\n",
       "      <td>shop phục_vụ rất tốt</td>\n",
       "      <td>5</td>\n",
       "    </tr>\n",
       "  </tbody>\n",
       "</table>\n",
       "</div>"
      ],
      "text/plain": [
       "                             content label\n",
       "0                       áo bao đẹp ạ     5\n",
       "1                          tuyệt_vời     5\n",
       "2         mùi thơm bôi lên da mềm da     5\n",
       "3                    vải đẹp dày_dặn     5\n",
       "4      hàng rất đẹp rất chi là ưng_ý     5\n",
       "5   chất_lượng sản_phẩm tốt date dài     5\n",
       "6      ăn_nói và thái_độ phục_vụ tốt     4\n",
       "7        đóng_gói sản_phẩm chắc_chắn     5\n",
       "8  tất sờn hết ca chưa dùng mà vay r     2\n",
       "9               shop phục_vụ rất tốt     5"
      ]
     },
     "execution_count": 4,
     "metadata": {},
     "output_type": "execute_result"
    }
   ],
   "source": [
    "df = pd.read_csv(file_path, dtype={'content': str, 'label': str})\n",
    "df.head(10)"
   ]
  },
  {
   "cell_type": "code",
   "execution_count": null,
   "metadata": {},
   "outputs": [],
   "source": [
    "df = df.drop(index=df.index[df.index >= 5000])"
   ]
  },
  {
   "cell_type": "code",
   "execution_count": 5,
   "metadata": {},
   "outputs": [
    {
     "data": {
      "text/plain": [
       "(31432, 2)"
      ]
     },
     "execution_count": 5,
     "metadata": {},
     "output_type": "execute_result"
    }
   ],
   "source": [
    "df.shape"
   ]
  },
  {
   "cell_type": "code",
   "execution_count": 6,
   "metadata": {},
   "outputs": [],
   "source": [
    "df['content'] = df['content'].fillna('').astype(str)"
   ]
  },
  {
   "cell_type": "code",
   "execution_count": 7,
   "metadata": {},
   "outputs": [
    {
     "data": {
      "text/html": [
       "<div>\n",
       "<style scoped>\n",
       "    .dataframe tbody tr th:only-of-type {\n",
       "        vertical-align: middle;\n",
       "    }\n",
       "\n",
       "    .dataframe tbody tr th {\n",
       "        vertical-align: top;\n",
       "    }\n",
       "\n",
       "    .dataframe thead th {\n",
       "        text-align: right;\n",
       "    }\n",
       "</style>\n",
       "<table border=\"1\" class=\"dataframe\">\n",
       "  <thead>\n",
       "    <tr style=\"text-align: right;\">\n",
       "      <th></th>\n",
       "      <th>content</th>\n",
       "      <th>label</th>\n",
       "      <th>count</th>\n",
       "    </tr>\n",
       "  </thead>\n",
       "  <tbody>\n",
       "    <tr>\n",
       "      <th>0</th>\n",
       "      <td>áo bao đẹp ạ</td>\n",
       "      <td>5</td>\n",
       "      <td>4</td>\n",
       "    </tr>\n",
       "    <tr>\n",
       "      <th>1</th>\n",
       "      <td>tuyệt_vời</td>\n",
       "      <td>5</td>\n",
       "      <td>1</td>\n",
       "    </tr>\n",
       "    <tr>\n",
       "      <th>2</th>\n",
       "      <td>mùi thơm bôi lên da mềm da</td>\n",
       "      <td>5</td>\n",
       "      <td>7</td>\n",
       "    </tr>\n",
       "    <tr>\n",
       "      <th>3</th>\n",
       "      <td>vải đẹp dày_dặn</td>\n",
       "      <td>5</td>\n",
       "      <td>3</td>\n",
       "    </tr>\n",
       "    <tr>\n",
       "      <th>4</th>\n",
       "      <td>hàng rất đẹp rất chi là ưng_ý</td>\n",
       "      <td>5</td>\n",
       "      <td>7</td>\n",
       "    </tr>\n",
       "    <tr>\n",
       "      <th>...</th>\n",
       "      <td>...</td>\n",
       "      <td>...</td>\n",
       "      <td>...</td>\n",
       "    </tr>\n",
       "    <tr>\n",
       "      <th>31427</th>\n",
       "      <td>không đáng tiền</td>\n",
       "      <td>1</td>\n",
       "      <td>3</td>\n",
       "    </tr>\n",
       "    <tr>\n",
       "      <th>31428</th>\n",
       "      <td>quần rất đẹp</td>\n",
       "      <td>5</td>\n",
       "      <td>3</td>\n",
       "    </tr>\n",
       "    <tr>\n",
       "      <th>31429</th>\n",
       "      <td>hàng đẹp đúng giá tiền</td>\n",
       "      <td>5</td>\n",
       "      <td>5</td>\n",
       "    </tr>\n",
       "    <tr>\n",
       "      <th>31430</th>\n",
       "      <td>chất vải khá ổn</td>\n",
       "      <td>4</td>\n",
       "      <td>4</td>\n",
       "    </tr>\n",
       "    <tr>\n",
       "      <th>31431</th>\n",
       "      <td>áo rất ok nhé vải mịn len cao cổ này phối form...</td>\n",
       "      <td>5</td>\n",
       "      <td>20</td>\n",
       "    </tr>\n",
       "  </tbody>\n",
       "</table>\n",
       "<p>31432 rows × 3 columns</p>\n",
       "</div>"
      ],
      "text/plain": [
       "                                                 content label  count\n",
       "0                                           áo bao đẹp ạ     5      4\n",
       "1                                              tuyệt_vời     5      1\n",
       "2                             mùi thơm bôi lên da mềm da     5      7\n",
       "3                                        vải đẹp dày_dặn     5      3\n",
       "4                          hàng rất đẹp rất chi là ưng_ý     5      7\n",
       "...                                                  ...   ...    ...\n",
       "31427                                    không đáng tiền     1      3\n",
       "31428                                       quần rất đẹp     5      3\n",
       "31429                             hàng đẹp đúng giá tiền     5      5\n",
       "31430                                    chất vải khá ổn     4      4\n",
       "31431  áo rất ok nhé vải mịn len cao cổ này phối form...     5     20\n",
       "\n",
       "[31432 rows x 3 columns]"
      ]
     },
     "execution_count": 7,
     "metadata": {},
     "output_type": "execute_result"
    }
   ],
   "source": [
    "# Count of text\n",
    "df['count'] = df['content'].apply(lambda x: len(x.split()))\n",
    "df"
   ]
  },
  {
   "cell_type": "code",
   "execution_count": 8,
   "metadata": {},
   "outputs": [
    {
     "data": {
      "text/plain": [
       "<Figure size 800x800 with 0 Axes>"
      ]
     },
     "metadata": {},
     "output_type": "display_data"
    },
    {
     "data": {
      "image/png": "[encoded data removed]",
      "text/plain": [
       "<Figure size 500x500 with 1 Axes>"
      ]
     },
     "metadata": {},
     "output_type": "display_data"
    }
   ],
   "source": [
    "plt.figure(figsize= (8, 8))\n",
    "\n",
    "sns.displot(df['count'])\n",
    "\n",
    "plt.xlim(0, 80)\n",
    "\n",
    "plt.xlabel('The num of words ', fontsize = 16)\n",
    "plt.title(\"The Number of Words Distribution\", fontsize = 18)\n",
    "plt.show()"
   ]
  },
  {
   "cell_type": "code",
   "execution_count": 9,
   "metadata": {},
   "outputs": [
    {
     "data": {
      "text/plain": [
       "Index(['5', '4', '3', '1', '2'], dtype='object', name='label')"
      ]
     },
     "execution_count": 9,
     "metadata": {},
     "output_type": "execute_result"
    }
   ],
   "source": [
    "label_count = df['label'].value_counts()\n",
    "\n",
    "labels = label_count.index\n",
    "\n",
    "labels"
   ]
  },
  {
   "cell_type": "code",
   "execution_count": 10,
   "metadata": {},
   "outputs": [
    {
     "data": {
      "text/plain": [
       "label\n",
       "5    13274\n",
       "4     6802\n",
       "3     4694\n",
       "1     3526\n",
       "2     3136\n",
       "Name: count, dtype: int64"
      ]
     },
     "execution_count": 10,
     "metadata": {},
     "output_type": "execute_result"
    }
   ],
   "source": [
    "label_count"
   ]
  },
  {
   "cell_type": "code",
   "execution_count": 11,
   "metadata": {},
   "outputs": [
    {
     "data": {
      "image/png": "[encoded data removed]",
      "text/plain": [
       "<Figure size 1200x500 with 1 Axes>"
      ]
     },
     "metadata": {},
     "output_type": "display_data"
    }
   ],
   "source": [
    "fig = plt.figure(figsize= (12, 5))\n",
    "\n",
    "ax = fig.add_subplot(111)\n",
    "\n",
    "sns.barplot(x = label_count.index, y = label_count )\n",
    "\n",
    "for a, p in enumerate(ax.patches):\n",
    "    ax.annotate(f'{labels[a]}\\n' + format(p.get_height(), '.0f'), xy = (p.get_x() + p.get_width() / 2.0, p.get_height()), xytext = (0,-25), size = 13, color = 'white' , ha = 'center', va = 'center', textcoords = 'offset points', bbox = dict(boxstyle = 'round', facecolor='none',edgecolor='white', alpha = 0.5) )\n",
    "    \n",
    "plt.xlabel('labels', size = 15)\n",
    "\n",
    "plt.ylabel('The Number of News', size= 15)\n",
    "\n",
    "plt.xticks(size = 12)\n",
    "\n",
    "plt.title(\"The number of News by labels\" , size = 18)\n",
    "\n",
    "plt.show()"
   ]
  },
  {
   "cell_type": "code",
   "execution_count": 12,
   "metadata": {},
   "outputs": [
    {
     "data": {
      "text/plain": [
       "array(['5', '4', '2', '3', '1'], dtype=object)"
      ]
     },
     "execution_count": 12,
     "metadata": {},
     "output_type": "execute_result"
    }
   ],
   "source": [
    "df['label'].unique()"
   ]
  },
  {
   "cell_type": "code",
   "execution_count": 13,
   "metadata": {},
   "outputs": [
    {
     "data": {
      "text/html": [
       "<div>\n",
       "<style scoped>\n",
       "    .dataframe tbody tr th:only-of-type {\n",
       "        vertical-align: middle;\n",
       "    }\n",
       "\n",
       "    .dataframe tbody tr th {\n",
       "        vertical-align: top;\n",
       "    }\n",
       "\n",
       "    .dataframe thead th {\n",
       "        text-align: right;\n",
       "    }\n",
       "</style>\n",
       "<table border=\"1\" class=\"dataframe\">\n",
       "  <thead>\n",
       "    <tr style=\"text-align: right;\">\n",
       "      <th></th>\n",
       "      <th>content</th>\n",
       "      <th>label</th>\n",
       "      <th>count</th>\n",
       "      <th>encoded_label</th>\n",
       "    </tr>\n",
       "  </thead>\n",
       "  <tbody>\n",
       "    <tr>\n",
       "      <th>0</th>\n",
       "      <td>áo bao đẹp ạ</td>\n",
       "      <td>5</td>\n",
       "      <td>4</td>\n",
       "      <td>0</td>\n",
       "    </tr>\n",
       "    <tr>\n",
       "      <th>1</th>\n",
       "      <td>tuyệt_vời</td>\n",
       "      <td>5</td>\n",
       "      <td>1</td>\n",
       "      <td>0</td>\n",
       "    </tr>\n",
       "    <tr>\n",
       "      <th>2</th>\n",
       "      <td>mùi thơm bôi lên da mềm da</td>\n",
       "      <td>5</td>\n",
       "      <td>7</td>\n",
       "      <td>0</td>\n",
       "    </tr>\n",
       "    <tr>\n",
       "      <th>3</th>\n",
       "      <td>vải đẹp dày_dặn</td>\n",
       "      <td>5</td>\n",
       "      <td>3</td>\n",
       "      <td>0</td>\n",
       "    </tr>\n",
       "    <tr>\n",
       "      <th>4</th>\n",
       "      <td>hàng rất đẹp rất chi là ưng_ý</td>\n",
       "      <td>5</td>\n",
       "      <td>7</td>\n",
       "      <td>0</td>\n",
       "    </tr>\n",
       "    <tr>\n",
       "      <th>5</th>\n",
       "      <td>chất_lượng sản_phẩm tốt date dài</td>\n",
       "      <td>5</td>\n",
       "      <td>5</td>\n",
       "      <td>0</td>\n",
       "    </tr>\n",
       "    <tr>\n",
       "      <th>6</th>\n",
       "      <td>ăn_nói và thái_độ phục_vụ tốt</td>\n",
       "      <td>4</td>\n",
       "      <td>5</td>\n",
       "      <td>1</td>\n",
       "    </tr>\n",
       "    <tr>\n",
       "      <th>7</th>\n",
       "      <td>đóng_gói sản_phẩm chắc_chắn</td>\n",
       "      <td>5</td>\n",
       "      <td>3</td>\n",
       "      <td>0</td>\n",
       "    </tr>\n",
       "    <tr>\n",
       "      <th>8</th>\n",
       "      <td>tất sờn hết ca chưa dùng mà vay r</td>\n",
       "      <td>2</td>\n",
       "      <td>9</td>\n",
       "      <td>2</td>\n",
       "    </tr>\n",
       "    <tr>\n",
       "      <th>9</th>\n",
       "      <td>shop phục_vụ rất tốt</td>\n",
       "      <td>5</td>\n",
       "      <td>4</td>\n",
       "      <td>0</td>\n",
       "    </tr>\n",
       "    <tr>\n",
       "      <th>10</th>\n",
       "      <td>mặc thì cũng đc</td>\n",
       "      <td>3</td>\n",
       "      <td>4</td>\n",
       "      <td>3</td>\n",
       "    </tr>\n",
       "    <tr>\n",
       "      <th>11</th>\n",
       "      <td>chất vải khỏi chê</td>\n",
       "      <td>5</td>\n",
       "      <td>4</td>\n",
       "      <td>0</td>\n",
       "    </tr>\n",
       "    <tr>\n",
       "      <th>12</th>\n",
       "      <td>thời_gian giao hàng rất nhanh</td>\n",
       "      <td>5</td>\n",
       "      <td>5</td>\n",
       "      <td>0</td>\n",
       "    </tr>\n",
       "    <tr>\n",
       "      <th>13</th>\n",
       "      <td>chất_lượng sản_phẩm tuyệt_vời</td>\n",
       "      <td>4</td>\n",
       "      <td>3</td>\n",
       "      <td>1</td>\n",
       "    </tr>\n",
       "    <tr>\n",
       "      <th>14</th>\n",
       "      <td>vải hơi thô cứng thời_gian giao hàng nhanh</td>\n",
       "      <td>5</td>\n",
       "      <td>8</td>\n",
       "      <td>0</td>\n",
       "    </tr>\n",
       "    <tr>\n",
       "      <th>15</th>\n",
       "      <td>chất_lượng sp chưa thật_sự đẹp nhe shop</td>\n",
       "      <td>4</td>\n",
       "      <td>7</td>\n",
       "      <td>1</td>\n",
       "    </tr>\n",
       "    <tr>\n",
       "      <th>16</th>\n",
       "      <td>rất đáng tiền thời_gian giao hàng rất nhanh</td>\n",
       "      <td>5</td>\n",
       "      <td>8</td>\n",
       "      <td>0</td>\n",
       "    </tr>\n",
       "    <tr>\n",
       "      <th>17</th>\n",
       "      <td>quần rất đẹp mặc vừa_vặn</td>\n",
       "      <td>5</td>\n",
       "      <td>5</td>\n",
       "      <td>0</td>\n",
       "    </tr>\n",
       "    <tr>\n",
       "      <th>18</th>\n",
       "      <td>cảm_giác mua hàng bị hớ thật tệ</td>\n",
       "      <td>2</td>\n",
       "      <td>7</td>\n",
       "      <td>2</td>\n",
       "    </tr>\n",
       "    <tr>\n",
       "      <th>19</th>\n",
       "      <td>khi mua về nên đi sửa lại</td>\n",
       "      <td>2</td>\n",
       "      <td>7</td>\n",
       "      <td>2</td>\n",
       "    </tr>\n",
       "  </tbody>\n",
       "</table>\n",
       "</div>"
      ],
      "text/plain": [
       "                                        content label  count  encoded_label\n",
       "0                                  áo bao đẹp ạ     5      4              0\n",
       "1                                     tuyệt_vời     5      1              0\n",
       "2                    mùi thơm bôi lên da mềm da     5      7              0\n",
       "3                               vải đẹp dày_dặn     5      3              0\n",
       "4                 hàng rất đẹp rất chi là ưng_ý     5      7              0\n",
       "5              chất_lượng sản_phẩm tốt date dài     5      5              0\n",
       "6                 ăn_nói và thái_độ phục_vụ tốt     4      5              1\n",
       "7                   đóng_gói sản_phẩm chắc_chắn     5      3              0\n",
       "8             tất sờn hết ca chưa dùng mà vay r     2      9              2\n",
       "9                          shop phục_vụ rất tốt     5      4              0\n",
       "10                              mặc thì cũng đc     3      4              3\n",
       "11                            chất vải khỏi chê     5      4              0\n",
       "12                thời_gian giao hàng rất nhanh     5      5              0\n",
       "13                chất_lượng sản_phẩm tuyệt_vời     4      3              1\n",
       "14   vải hơi thô cứng thời_gian giao hàng nhanh     5      8              0\n",
       "15      chất_lượng sp chưa thật_sự đẹp nhe shop     4      7              1\n",
       "16  rất đáng tiền thời_gian giao hàng rất nhanh     5      8              0\n",
       "17                     quần rất đẹp mặc vừa_vặn     5      5              0\n",
       "18              cảm_giác mua hàng bị hớ thật tệ     2      7              2\n",
       "19                    khi mua về nên đi sửa lại     2      7              2"
      ]
     },
     "execution_count": 13,
     "metadata": {},
     "output_type": "execute_result"
    }
   ],
   "source": [
    "df['encoded_label'], _ = pd.factorize(df['label'])\n",
    "# encoded_dict = {\"1\":1,\"2\":2, '3':3, \"4\":4,'5':5}\n",
    "# df['encoded_label'] = df['label'].map(encoded_dict)\n",
    "\n",
    "df.head(20)"
   ]
  },
  {
   "cell_type": "code",
   "execution_count": 14,
   "metadata": {},
   "outputs": [],
   "source": [
    "data_texts = df['content'].to_list()\n",
    "\n",
    "# data_labels = df['encoded_label'].to_list()\n",
    "data_labels = df['label'].to_list()"
   ]
  },
  {
   "cell_type": "code",
   "execution_count": null,
   "metadata": {},
   "outputs": [],
   "source": [
    "data_labels"
   ]
  },
  {
   "cell_type": "markdown",
   "metadata": {},
   "source": [
    "# Train Test SPlit"
   ]
  },
  {
   "cell_type": "code",
   "execution_count": null,
   "metadata": {},
   "outputs": [],
   "source": [
    "\n",
    "# train_texts, val_texts, train_labels, val_labels = train_test_split(data_texts, data_labels, test_size = 0.2, random_state = 0 )\n",
    "\n",
    "\n",
    "# train_texts, test_texts, train_labels, test_labels = train_test_split(train_texts, train_labels, test_size = 0.01, random_state = 0 )\n",
    "\n",
    "train_texts, val_texts, train_labels, val_labels = train_test_split(data_texts, data_labels, test_size = 0.2, random_state = 0 )\n",
    "\n",
    "\n",
    "train_texts, test_texts, train_labels, test_labels = train_test_split(train_texts, train_labels, test_size = 0.01, random_state = 0 )"
   ]
  },
  {
   "cell_type": "markdown",
   "metadata": {},
   "source": [
    "# Model Definition"
   ]
  },
  {
   "cell_type": "code",
   "execution_count": null,
   "metadata": {},
   "outputs": [],
   "source": [
    "# Khởi tạo tokenizer của PhoBERT\n",
    "tokenizer = PhobertTokenizer.from_pretrained('vinai/phobert-base', use_fast=False)\n",
    "\n",
    "# Tokenize dữ liệu train và validate\n",
    "train_encodings = tokenizer(train_texts, truncation=True, padding=True)\n",
    "val_encodings = tokenizer(val_texts, truncation=True, padding=True)"
   ]
  },
  {
   "cell_type": "code",
   "execution_count": null,
   "metadata": {},
   "outputs": [],
   "source": [
    "# Chuyển đổi dữ liệu đã tokenize thành định dạng TensorFlow\n",
    "train_dataset = tf.data.Dataset.from_tensor_slices((dict(train_encodings), train_labels)).shuffle(1000).batch(64)\n",
    "val_dataset = tf.data.Dataset.from_tensor_slices((dict(val_encodings), val_labels)).batch(64)"
   ]
  },
  {
   "cell_type": "markdown",
   "metadata": {},
   "source": [
    "# Fine-tuning with the Model"
   ]
  },
  {
   "cell_type": "code",
   "execution_count": null,
   "metadata": {},
   "outputs": [],
   "source": [
    "import os\n",
    "os.environ[\"TF_USE_LEGACY_KERAS\"] =\"1\"\n",
    "# Tạo và kiểm tra các thư mục"
   ]
  },
  {
   "cell_type": "code",
   "execution_count": null,
   "metadata": {},
   "outputs": [],
   "source": [
    "# Sử dụng PhoBERT và chỉ định số nhãn tương ứng\n",
    "model = TFRobertaForSequenceClassification.from_pretrained('vinai/phobert-base', num_labels=5)\n",
    "\n",
    "# Tạo một callback để lưu mô hình và log\n",
    "callbacks = [\n",
    "    tf.keras.callbacks.ModelCheckpoint(filepath='.\\\\models\\\\model_{epoch}.keras'),\n",
    "    tf.keras.callbacks.TensorBoard(log_dir='.\\\\models\\\\logs')\n",
    "]\n",
    "\n",
    "\n",
    "# Biên dịch mô hình với các thông số tùy chỉnh\n",
    "model.compile(optimizer=tf.keras.optimizers.Adam(learning_rate=1e-5),\n",
    "            loss=tf.keras.losses.SparseCategoricalCrossentropy(from_logits=True),\n",
    "            metrics=[tf.keras.metrics.SparseCategoricalAccuracy()])\n",
    "\n",
    "# Hàm để thực hiện huấn luyện\n",
    "def train_model():\n",
    "    model.fit(train_dataset,\n",
    "            epochs=5,\n",
    "            callbacks=callbacks,\n",
    "            validation_data=val_dataset)\n",
    "\n",
    "# Hàm để thực hiện đánh giá mô hình\n",
    "def evaluate_model():\n",
    "    return model.evaluate(val_dataset)"
   ]
  },
  {
   "cell_type": "code",
   "execution_count": null,
   "metadata": {},
   "outputs": [],
   "source": [
    "# Tắt cảnh báo TensorFlow và Deprecation\n",
    "os.environ['TF_CPP_MIN_LOG_LEVEL'] = '2'\n",
    "warnings.filterwarnings(\"ignore\", category=DeprecationWarning)\n",
    "# Tắt cảnh báo về softmax cross-entropy\n",
    "tf.compat.v1.logging.set_verbosity(tf.compat.v1.logging.ERROR)"
   ]
  },
  {
   "cell_type": "code",
   "execution_count": null,
   "metadata": {},
   "outputs": [],
   "source": [
    "# Bắt đầu quá trình huấn luyện\n",
    "train_model()"
   ]
  },
  {
   "cell_type": "code",
   "execution_count": null,
   "metadata": {},
   "outputs": [],
   "source": [
    "evaluate_model()"
   ]
  },
  {
   "cell_type": "markdown",
   "metadata": {},
   "source": [
    "# Using model??"
   ]
  },
  {
   "cell_type": "code",
   "execution_count": null,
   "metadata": {},
   "outputs": [],
   "source": [
    "test_texts"
   ]
  },
  {
   "cell_type": "code",
   "execution_count": null,
   "metadata": {},
   "outputs": [],
   "source": [
    "# Tạo từ điển ánh xạ giữa label ban đầu và label encoded\n",
    "# label_to_encoded = dict(zip(df['label'], df['encoded_label']))\n",
    "\n",
    "def predict_model(input_text):\n",
    "    # Mã hóa văn bản đầu vào\n",
    "    encoded_input = tokenizer.encode_plus(\n",
    "        input_text,\n",
    "        return_tensors='tf',\n",
    "        max_length=256,  # Độ dài tối đa của chuỗi đầu vào\n",
    "        truncation=True,\n",
    "        padding='max_length'\n",
    "    )\n",
    "    # Dự đoán\n",
    "    predictions = model(encoded_input)\n",
    "    \n",
    "    # In ra các giá trị trong mảng numpy\n",
    "    logits_array = predictions['logits'].numpy()\n",
    "    print(logits_array)\n",
    "    \n",
    "    # Trích xuất mảng logits từ đối tượng từ điển predictions\n",
    "    logits = predictions['logits']\n",
    "    # Chọn nhãn có xác suất cao nhất\n",
    "    predicted_label_encoded = tf.argmax(logits, axis=1).numpy()[0]\n",
    "    \n",
    "    # Trích xuất label ban đầu từ label encoded\n",
    "    predicted_label = list(label_to_encoded.keys())[predicted_label_encoded]\n",
    "    \n",
    "    # Hiển thị kết quả dưới dạng encoded label và label ban đầu\n",
    "    result = f\"encoded label: {predicted_label_encoded} - label: {predicted_label}\"\n",
    "    \n",
    "    return result\n"
   ]
  },
  {
   "cell_type": "code",
   "execution_count": null,
   "metadata": {},
   "outputs": [],
   "source": [
    "test_text = test_texts[1]\n",
    "\n",
    "print(test_text),\n",
    "predict_model(test_text)"
   ]
  },
  {
   "cell_type": "markdown",
   "metadata": {},
   "source": [
    "# # Loading Pre-Trained Model"
   ]
  },
  {
   "cell_type": "code",
   "execution_count": null,
   "metadata": {},
   "outputs": [],
   "source": [
    "def create_model():\n",
    "    # Tạo mô hình mới với kiến trúc tương tự mô hình ban đầu\n",
    "    model = TFRobertaForSequenceClassification.from_pretrained('vinai/phobert-base', num_labels=5)\n",
    "    model.compile(optimizer='adam', loss='sparse_categorical_crossentropy', metrics=['accuracy'])\n",
    "    return model\n"
   ]
  },
  {
   "cell_type": "code",
   "execution_count": null,
   "metadata": {},
   "outputs": [],
   "source": [
    "# Tạo mô hình mới\n",
    "new_model = create_model()\n",
    "\n",
    "# Khôi phục trọng số từ tệp checkpoint đã lưu\n",
    "new_model.load_weights('./models/model_1.keras')\n"
   ]
  },
  {
   "cell_type": "code",
   "execution_count": null,
   "metadata": {},
   "outputs": [],
   "source": [
    "# Evaluate the model on the validation dataset\n",
    "loss, accuracy = new_model.evaluate(val_dataset)\n",
    "print(f\"Validation loss: {loss:.4f}, Accuracy: {accuracy:.4f}\")\n"
   ]
  },
  {
   "cell_type": "code",
   "execution_count": null,
   "metadata": {},
   "outputs": [],
   "source": [
    "# Tạo từ điển ánh xạ giữa label ban đầu và label encoded\n",
    "# label_to_encoded = dict(zip(df['label'], df['encoded_label']))\n",
    "\n",
    "def predict_newmodel(input_text):\n",
    "    # Mã hóa văn bản đầu vào\n",
    "    encoded_input = tokenizer.encode_plus(\n",
    "        input_text,\n",
    "        return_tensors='tf',\n",
    "        max_length=256,  # Độ dài tối đa của chuỗi đầu vào\n",
    "        truncation=True,\n",
    "        padding='max_length'\n",
    "    )\n",
    "    # Dự đoán\n",
    "    predictions = new_model(encoded_input)\n",
    "    \n",
    "    # In ra các giá trị trong mảng numpy\n",
    "    logits_array = predictions['logits'].numpy()\n",
    "    print(logits_array)\n",
    "    \n",
    "    # Trích xuất mảng logits từ đối tượng từ điển predictions\n",
    "    logits = predictions['logits']\n",
    "    # Chọn nhãn có xác suất cao nhất\n",
    "    predicted_label_encoded = tf.argmax(logits, axis=1).numpy()[0]\n",
    "    \n",
    "    # Trích xuất label ban đầu từ label encoded\n",
    "    predicted_label = list(label_to_encoded.keys())[predicted_label_encoded]\n",
    "    \n",
    "    # Hiển thị kết quả dưới dạng encoded label và label ban đầu\n",
    "    result = f\"encoded label: {predicted_label_encoded} - label: {predicted_label}\"\n",
    "    \n",
    "    return result\n"
   ]
  },
  {
   "cell_type": "code",
   "execution_count": null,
   "metadata": {},
   "outputs": [],
   "source": [
    "test_texts"
   ]
  },
  {
   "cell_type": "code",
   "execution_count": null,
   "metadata": {},
   "outputs": [],
   "source": [
    "test_text = test_texts[1]\n",
    "\n",
    "print(test_text),\n",
    "predict_newmodel(test_text)"
   ]
  },
  {
   "cell_type": "code",
   "execution_count": null,
   "metadata": {},
   "outputs": [],
   "source": [
    "file_path = get_path('data.csv')"
   ]
  },
  {
   "cell_type": "code",
   "execution_count": null,
   "metadata": {},
   "outputs": [],
   "source": [
    "df = pd.read_csv(file_path, dtype={'content': str, 'label': str})\n",
    "df"
   ]
  },
  {
   "cell_type": "code",
   "execution_count": null,
   "metadata": {},
   "outputs": [],
   "source": [
    "label_to_encoded = dict(zip(df['label'], df['encoded_label']))\n",
    "encoded_to_label = {v: k for k, v in label_to_encoded.items()}  # Đảo ngược từ điển để ánh xạ ngược\n",
    "\n",
    "def predict_newmodel(input_text, ):\n",
    "    # Mã hóa văn bản đầu vào\n",
    "    encoded_input = tokenizer.encode_plus(\n",
    "        input_text,\n",
    "        return_tensors='tf',\n",
    "        max_length=256,  # Độ dài tối đa của chuỗi đầu vào\n",
    "        truncation=True,\n",
    "        padding='max_length'\n",
    "    )\n",
    "    # Dự đoán\n",
    "    predictions = new_model(encoded_input)\n",
    "    \n",
    "    # Trích xuất mảng logits từ đối tượng từ điển predictions\n",
    "    logits = predictions['logits']\n",
    "    # Chọn nhãn có xác suất cao nhất\n",
    "    predicted_label_encoded = tf.argmax(logits, axis=1).numpy()[0]\n",
    "    \n",
    "    # Trích xuất label ban đầu từ label encoded\n",
    "    predicted_label = encoded_to_label[predicted_label_encoded]\n",
    "    \n",
    "    return predicted_label_encoded, predicted_label\n",
    "\n",
    "# Giả sử test_texts là danh sách các văn bản cần dự đoán\n",
    "# test_texts = [\"text1\", \"text2\", \"text3\", ...]\n",
    "\n",
    "# Tạo danh sách để lưu các kết quả dự đoán\n",
    "contents = []\n",
    "encoded_labels = []\n",
    "labels = []\n",
    "\n",
    "# Dự đoán cho từng văn bản trong test_texts\n",
    "for text in test_texts:\n",
    "    predicted_label_encoded, predicted_label = predict_newmodel(text)\n",
    "    \n",
    "    contents.append(text)\n",
    "    encoded_labels.append(predicted_label_encoded)\n",
    "    labels.append(predicted_label)\n",
    "\n",
    "# Tạo DataFrame với các cột 'content', 'encoded label' và 'label'\n",
    "results_df = pd.DataFrame({\n",
    "    'content': contents,\n",
    "    'encoded label': encoded_labels,\n",
    "    'label': labels\n",
    "})\n",
    "\n",
    "# Xuất DataFrame ra file CSV nếu cần\n",
    "results_df.to_csv('predicted_results.csv', index=False)\n",
    "\n",
    "print(results_df)"
   ]
  }
 ],
 "metadata": {
  "kernelspec": {
   "display_name": "myENV",
   "language": "python",
   "name": "python3"
  },
  "language_info": {
   "codemirror_mode": {
    "name": "ipython",
    "version": 3
   },
   "file_extension": ".py",
   "mimetype": "text/x-python",
   "name": "python",
   "nbconvert_exporter": "python",
   "pygments_lexer": "ipython3",
   "version": "3.12.2"
  }
 },
 "nbformat": 4,
 "nbformat_minor": 2
}
