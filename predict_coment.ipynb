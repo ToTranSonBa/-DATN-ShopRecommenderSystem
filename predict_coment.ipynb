{
 "cells": [
  {
   "cell_type": "markdown",
   "metadata": {},
   "source": [
    "# FIle rác tham khảo"
   ]
  },
  {
   "cell_type": "markdown",
   "metadata": {},
   "source": [
    "1. Import thư viện"
   ]
  },
  {
   "cell_type": "code",
   "execution_count": 1,
   "metadata": {},
   "outputs": [],
   "source": [
    "# import spacy\n",
    "import pyodbc\n",
    "import numpy as np\n",
    "import regex as re\n",
    "import pandas as pd"
   ]
  },
  {
   "cell_type": "code",
   "execution_count": 2,
   "metadata": {},
   "outputs": [
    {
     "data": {
      "text/plain": [
       "[]"
      ]
     },
     "execution_count": 2,
     "metadata": {},
     "output_type": "execute_result"
    }
   ],
   "source": [
    "connect_string = \"DRIVER={SQL Server};SERVER=tcp:shoprecommend.database.windows.net,1433;DATABASE=ShopRecommend;UID=ShopRecommend;PWD=Quoc2002#;Encrypt=yes;TrustServerCertificate=no;Connection Timeout=30;\"\n",
    "\n",
    "# Kết nối đến SQL Server\n",
    "connect = pyodbc.connect(connect_string)\n",
    "cursor = connect.cursor()\n",
    "\n",
    "# Kiểm tra kết quả kết nôi\n",
    "cursor.execute('''\n",
    "    SELECT [ID]\n",
    "        ,[ID_SK]\n",
    "        ,[AccountID]\n",
    "        ,[SellerID]\n",
    "        ,[ProductID]\n",
    "        ,[Content]\n",
    "        ,[CreditRating]\n",
    "        ,[IsCredited]\n",
    "    FROM [dbo].[DetailComments]\n",
    "    WHERE [IsCredited] is NULL\n",
    "    ''')\n",
    "result = cursor.fetchall()\n",
    "result"
   ]
  },
  {
   "cell_type": "code",
   "execution_count": 3,
   "metadata": {},
   "outputs": [
    {
     "name": "stdout",
     "output_type": "stream",
     "text": [
      "data shape in serrve:  (0, 8)\n"
     ]
    },
    {
     "data": {
      "text/html": [
       "<div>\n",
       "<style scoped>\n",
       "    .dataframe tbody tr th:only-of-type {\n",
       "        vertical-align: middle;\n",
       "    }\n",
       "\n",
       "    .dataframe tbody tr th {\n",
       "        vertical-align: top;\n",
       "    }\n",
       "\n",
       "    .dataframe thead th {\n",
       "        text-align: right;\n",
       "    }\n",
       "</style>\n",
       "<table border=\"1\" class=\"dataframe\">\n",
       "  <thead>\n",
       "    <tr style=\"text-align: right;\">\n",
       "      <th></th>\n",
       "      <th>ID</th>\n",
       "      <th>ID_SK</th>\n",
       "      <th>AccountID</th>\n",
       "      <th>SellerID</th>\n",
       "      <th>ProductID</th>\n",
       "      <th>Content</th>\n",
       "      <th>CreditRating</th>\n",
       "      <th>IsCredited</th>\n",
       "    </tr>\n",
       "  </thead>\n",
       "  <tbody>\n",
       "  </tbody>\n",
       "</table>\n",
       "</div>"
      ],
      "text/plain": [
       "Empty DataFrame\n",
       "Columns: [ID, ID_SK, AccountID, SellerID, ProductID, Content, CreditRating, IsCredited]\n",
       "Index: []"
      ]
     },
     "execution_count": 3,
     "metadata": {},
     "output_type": "execute_result"
    }
   ],
   "source": [
    "result = [(row[0], row[1], row[2], row[3], row[4], row[5], row[6], row[7])  for row in result]\n",
    "\n",
    "    \n",
    "# khởi tạo data frame trống\n",
    "df = pd.DataFrame(result, columns=['ID', 'ID_SK', 'AccountID', 'SellerID', 'ProductID', 'Content', 'CreditRating', 'IsCredited'])\n",
    "print('data shape in serrve: ',df.shape)\n",
    "df"
   ]
  },
  {
   "cell_type": "markdown",
   "metadata": {},
   "source": [
    "2: Thiết lập kết nối đến Serve để lấy data"
   ]
  },
  {
   "cell_type": "code",
   "execution_count": 2,
   "metadata": {},
   "outputs": [],
   "source": [
    "# Code here\n",
    "\n",
    "# Thiết lập chuỗi kết nối\n",
    "# connect_string = 'DRIVER=ODBC Driver 17 for SQL Server; Server=HoangCau; Database=ShopRecommend; Trusted_Connection=yes;'\n",
    "connect_string = \"Driver={SQL Server};Server=HoangCau;Database=ShopRecommend;Trusted_Connection=yes;\"\n",
    "\n",
    "# Kết nối đến SQL Server\n",
    "connect = pyodbc.connect(connect_string)\n",
    "cursor = connect.cursor()"
   ]
  },
  {
   "cell_type": "code",
   "execution_count": 3,
   "metadata": {},
   "outputs": [],
   "source": [
    "# Kiểm tra kết quả kết nôi\n",
    "cursor.execute('''\n",
    "SELECT TOP 100\n",
    "    cmt.[AccountID], \n",
    "    cmt.[SellerID],\n",
    "\tcmt.[Content],\n",
    "    cmt.[Rating],\n",
    "\tseller.[AvgRatingPoint],\n",
    "\tseller.[TotalFollower],\n",
    "\tseller.[IsOfficial],\n",
    "\tproduct.[RatingAverage],\n",
    "    product.[AllTimeQuantitySold]\n",
    "FROM \n",
    "    [ShopRecommend].[dbo].[DetailComments] cmt \n",
    "    JOIN [ShopRecommend].[dbo].[Seller] seller ON cmt.SellerID = seller.ID_NK \n",
    "    JOIN [ShopRecommend].[dbo].[Product] product ON cmt.ProductID = product.ID_NK \n",
    "''')\n",
    "result = cursor.fetchall()\n",
    "result = [(row[0], row[1], row[2], round(row[3], 5), round(row[4], 5), row[5], row[6], round(row[7], 5), row[8])  for row in result]"
   ]
  },
  {
   "cell_type": "code",
   "execution_count": 4,
   "metadata": {},
   "outputs": [
    {
     "data": {
      "text/plain": [
       "(100, 9)"
      ]
     },
     "execution_count": 4,
     "metadata": {},
     "output_type": "execute_result"
    }
   ],
   "source": [
    "\n",
    "# khởi tạo data frame trống\n",
    "df = pd.DataFrame(result, columns=['AccountID', 'SellerID', 'Content', 'Rating', 'SellerAvgRatingPoint', 'SellerTotalFollower', 'SellerIsOfficial', 'ProductRatingAverage', 'ProductQuantitySold'])\n",
    "df.shape"
   ]
  },
  {
   "cell_type": "code",
   "execution_count": 5,
   "metadata": {},
   "outputs": [
    {
     "data": {
      "text/html": [
       "<div>\n",
       "<style scoped>\n",
       "    .dataframe tbody tr th:only-of-type {\n",
       "        vertical-align: middle;\n",
       "    }\n",
       "\n",
       "    .dataframe tbody tr th {\n",
       "        vertical-align: top;\n",
       "    }\n",
       "\n",
       "    .dataframe thead th {\n",
       "        text-align: right;\n",
       "    }\n",
       "</style>\n",
       "<table border=\"1\" class=\"dataframe\">\n",
       "  <thead>\n",
       "    <tr style=\"text-align: right;\">\n",
       "      <th></th>\n",
       "      <th>AccountID</th>\n",
       "      <th>SellerID</th>\n",
       "      <th>Content</th>\n",
       "      <th>Rating</th>\n",
       "      <th>SellerAvgRatingPoint</th>\n",
       "      <th>SellerTotalFollower</th>\n",
       "      <th>SellerIsOfficial</th>\n",
       "      <th>ProductRatingAverage</th>\n",
       "      <th>ProductQuantitySold</th>\n",
       "    </tr>\n",
       "  </thead>\n",
       "  <tbody>\n",
       "    <tr>\n",
       "      <th>0</th>\n",
       "      <td>252</td>\n",
       "      <td>2926</td>\n",
       "      <td>Cuốn sách rất thú vị, giúp mình ra quyết định ...</td>\n",
       "      <td>5</td>\n",
       "      <td>4.6718</td>\n",
       "      <td>500417</td>\n",
       "      <td>True</td>\n",
       "      <td>4.8</td>\n",
       "      <td>0</td>\n",
       "    </tr>\n",
       "    <tr>\n",
       "      <th>1</th>\n",
       "      <td>276</td>\n",
       "      <td>2926</td>\n",
       "      <td>nan</td>\n",
       "      <td>5</td>\n",
       "      <td>4.6718</td>\n",
       "      <td>500417</td>\n",
       "      <td>True</td>\n",
       "      <td>4.8</td>\n",
       "      <td>0</td>\n",
       "    </tr>\n",
       "    <tr>\n",
       "      <th>2</th>\n",
       "      <td>280</td>\n",
       "      <td>2926</td>\n",
       "      <td>nan</td>\n",
       "      <td>5</td>\n",
       "      <td>4.6718</td>\n",
       "      <td>500417</td>\n",
       "      <td>True</td>\n",
       "      <td>4.8</td>\n",
       "      <td>0</td>\n",
       "    </tr>\n",
       "    <tr>\n",
       "      <th>3</th>\n",
       "      <td>276</td>\n",
       "      <td>2926</td>\n",
       "      <td>nan</td>\n",
       "      <td>5</td>\n",
       "      <td>4.6718</td>\n",
       "      <td>500417</td>\n",
       "      <td>True</td>\n",
       "      <td>4.8</td>\n",
       "      <td>0</td>\n",
       "    </tr>\n",
       "    <tr>\n",
       "      <th>4</th>\n",
       "      <td>298</td>\n",
       "      <td>2926</td>\n",
       "      <td>A</td>\n",
       "      <td>5</td>\n",
       "      <td>4.6718</td>\n",
       "      <td>500417</td>\n",
       "      <td>True</td>\n",
       "      <td>4.8</td>\n",
       "      <td>0</td>\n",
       "    </tr>\n",
       "  </tbody>\n",
       "</table>\n",
       "</div>"
      ],
      "text/plain": [
       "   AccountID  SellerID                                            Content  \\\n",
       "0        252      2926  Cuốn sách rất thú vị, giúp mình ra quyết định ...   \n",
       "1        276      2926                                                nan   \n",
       "2        280      2926                                                nan   \n",
       "3        276      2926                                                nan   \n",
       "4        298      2926                                                  A   \n",
       "\n",
       "   Rating  SellerAvgRatingPoint  SellerTotalFollower  SellerIsOfficial  \\\n",
       "0       5                4.6718               500417              True   \n",
       "1       5                4.6718               500417              True   \n",
       "2       5                4.6718               500417              True   \n",
       "3       5                4.6718               500417              True   \n",
       "4       5                4.6718               500417              True   \n",
       "\n",
       "   ProductRatingAverage  ProductQuantitySold  \n",
       "0                   4.8                    0  \n",
       "1                   4.8                    0  \n",
       "2                   4.8                    0  \n",
       "3                   4.8                    0  \n",
       "4                   4.8                    0  "
      ]
     },
     "execution_count": 5,
     "metadata": {},
     "output_type": "execute_result"
    }
   ],
   "source": [
    "df.head()"
   ]
  },
  {
   "cell_type": "code",
   "execution_count": 6,
   "metadata": {},
   "outputs": [
    {
     "data": {
      "text/html": [
       "<div>\n",
       "<style scoped>\n",
       "    .dataframe tbody tr th:only-of-type {\n",
       "        vertical-align: middle;\n",
       "    }\n",
       "\n",
       "    .dataframe tbody tr th {\n",
       "        vertical-align: top;\n",
       "    }\n",
       "\n",
       "    .dataframe thead th {\n",
       "        text-align: right;\n",
       "    }\n",
       "</style>\n",
       "<table border=\"1\" class=\"dataframe\">\n",
       "  <thead>\n",
       "    <tr style=\"text-align: right;\">\n",
       "      <th></th>\n",
       "      <th>AccountID</th>\n",
       "      <th>SellerID</th>\n",
       "      <th>Content</th>\n",
       "      <th>Rating</th>\n",
       "      <th>SellerAvgRatingPoint</th>\n",
       "      <th>SellerTotalFollower</th>\n",
       "      <th>SellerIsOfficial</th>\n",
       "      <th>ProductRatingAverage</th>\n",
       "      <th>ProductQuantitySold</th>\n",
       "    </tr>\n",
       "  </thead>\n",
       "  <tbody>\n",
       "    <tr>\n",
       "      <th>0</th>\n",
       "      <td>252</td>\n",
       "      <td>2926</td>\n",
       "      <td>Cuốn sách rất thú vị, giúp mình ra quyết định ...</td>\n",
       "      <td>5</td>\n",
       "      <td>4.6718</td>\n",
       "      <td>500417</td>\n",
       "      <td>True</td>\n",
       "      <td>4.8</td>\n",
       "      <td>0</td>\n",
       "    </tr>\n",
       "    <tr>\n",
       "      <th>1</th>\n",
       "      <td>276</td>\n",
       "      <td>2926</td>\n",
       "      <td>nan</td>\n",
       "      <td>5</td>\n",
       "      <td>4.6718</td>\n",
       "      <td>500417</td>\n",
       "      <td>True</td>\n",
       "      <td>4.8</td>\n",
       "      <td>0</td>\n",
       "    </tr>\n",
       "    <tr>\n",
       "      <th>2</th>\n",
       "      <td>280</td>\n",
       "      <td>2926</td>\n",
       "      <td>nan</td>\n",
       "      <td>5</td>\n",
       "      <td>4.6718</td>\n",
       "      <td>500417</td>\n",
       "      <td>True</td>\n",
       "      <td>4.8</td>\n",
       "      <td>0</td>\n",
       "    </tr>\n",
       "    <tr>\n",
       "      <th>3</th>\n",
       "      <td>276</td>\n",
       "      <td>2926</td>\n",
       "      <td>nan</td>\n",
       "      <td>5</td>\n",
       "      <td>4.6718</td>\n",
       "      <td>500417</td>\n",
       "      <td>True</td>\n",
       "      <td>4.8</td>\n",
       "      <td>0</td>\n",
       "    </tr>\n",
       "    <tr>\n",
       "      <th>4</th>\n",
       "      <td>298</td>\n",
       "      <td>2926</td>\n",
       "      <td>A</td>\n",
       "      <td>5</td>\n",
       "      <td>4.6718</td>\n",
       "      <td>500417</td>\n",
       "      <td>True</td>\n",
       "      <td>4.8</td>\n",
       "      <td>0</td>\n",
       "    </tr>\n",
       "    <tr>\n",
       "      <th>...</th>\n",
       "      <td>...</td>\n",
       "      <td>...</td>\n",
       "      <td>...</td>\n",
       "      <td>...</td>\n",
       "      <td>...</td>\n",
       "      <td>...</td>\n",
       "      <td>...</td>\n",
       "      <td>...</td>\n",
       "      <td>...</td>\n",
       "    </tr>\n",
       "    <tr>\n",
       "      <th>95</th>\n",
       "      <td>908</td>\n",
       "      <td>2926</td>\n",
       "      <td>nan</td>\n",
       "      <td>5</td>\n",
       "      <td>4.6718</td>\n",
       "      <td>500417</td>\n",
       "      <td>True</td>\n",
       "      <td>4.8</td>\n",
       "      <td>0</td>\n",
       "    </tr>\n",
       "    <tr>\n",
       "      <th>96</th>\n",
       "      <td>911</td>\n",
       "      <td>2926</td>\n",
       "      <td>nan</td>\n",
       "      <td>5</td>\n",
       "      <td>4.6718</td>\n",
       "      <td>500417</td>\n",
       "      <td>True</td>\n",
       "      <td>4.8</td>\n",
       "      <td>0</td>\n",
       "    </tr>\n",
       "    <tr>\n",
       "      <th>97</th>\n",
       "      <td>914</td>\n",
       "      <td>2926</td>\n",
       "      <td>nan</td>\n",
       "      <td>5</td>\n",
       "      <td>4.6718</td>\n",
       "      <td>500417</td>\n",
       "      <td>True</td>\n",
       "      <td>4.8</td>\n",
       "      <td>0</td>\n",
       "    </tr>\n",
       "    <tr>\n",
       "      <th>98</th>\n",
       "      <td>918</td>\n",
       "      <td>2926</td>\n",
       "      <td>nan</td>\n",
       "      <td>5</td>\n",
       "      <td>4.6718</td>\n",
       "      <td>500417</td>\n",
       "      <td>True</td>\n",
       "      <td>4.8</td>\n",
       "      <td>0</td>\n",
       "    </tr>\n",
       "    <tr>\n",
       "      <th>99</th>\n",
       "      <td>941</td>\n",
       "      <td>2926</td>\n",
       "      <td>nan</td>\n",
       "      <td>5</td>\n",
       "      <td>4.6718</td>\n",
       "      <td>500417</td>\n",
       "      <td>True</td>\n",
       "      <td>4.8</td>\n",
       "      <td>0</td>\n",
       "    </tr>\n",
       "  </tbody>\n",
       "</table>\n",
       "<p>100 rows × 9 columns</p>\n",
       "</div>"
      ],
      "text/plain": [
       "    AccountID  SellerID                                            Content  \\\n",
       "0         252      2926  Cuốn sách rất thú vị, giúp mình ra quyết định ...   \n",
       "1         276      2926                                                nan   \n",
       "2         280      2926                                                nan   \n",
       "3         276      2926                                                nan   \n",
       "4         298      2926                                                  A   \n",
       "..        ...       ...                                                ...   \n",
       "95        908      2926                                                nan   \n",
       "96        911      2926                                                nan   \n",
       "97        914      2926                                                nan   \n",
       "98        918      2926                                                nan   \n",
       "99        941      2926                                                nan   \n",
       "\n",
       "    Rating  SellerAvgRatingPoint  SellerTotalFollower  SellerIsOfficial  \\\n",
       "0        5                4.6718               500417              True   \n",
       "1        5                4.6718               500417              True   \n",
       "2        5                4.6718               500417              True   \n",
       "3        5                4.6718               500417              True   \n",
       "4        5                4.6718               500417              True   \n",
       "..     ...                   ...                  ...               ...   \n",
       "95       5                4.6718               500417              True   \n",
       "96       5                4.6718               500417              True   \n",
       "97       5                4.6718               500417              True   \n",
       "98       5                4.6718               500417              True   \n",
       "99       5                4.6718               500417              True   \n",
       "\n",
       "    ProductRatingAverage  ProductQuantitySold  \n",
       "0                    4.8                    0  \n",
       "1                    4.8                    0  \n",
       "2                    4.8                    0  \n",
       "3                    4.8                    0  \n",
       "4                    4.8                    0  \n",
       "..                   ...                  ...  \n",
       "95                   4.8                    0  \n",
       "96                   4.8                    0  \n",
       "97                   4.8                    0  \n",
       "98                   4.8                    0  \n",
       "99                   4.8                    0  \n",
       "\n",
       "[100 rows x 9 columns]"
      ]
     },
     "execution_count": 6,
     "metadata": {},
     "output_type": "execute_result"
    }
   ],
   "source": [
    "df"
   ]
  },
  {
   "cell_type": "markdown",
   "metadata": {},
   "source": [
    "# apply model comment"
   ]
  },
  {
   "cell_type": "code",
   "execution_count": null,
   "metadata": {},
   "outputs": [
    {
     "ename": "",
     "evalue": "",
     "output_type": "error",
     "traceback": [
      "\u001b[1;31mRunning cells with 'Python 3.12.3' requires the ipykernel package.\n",
      "\u001b[1;31mRun the following command to install 'ipykernel' into the Python environment. \n",
      "\u001b[1;31mCommand: 'c:/Python312/python.exe -m pip install ipykernel -U --user --force-reinstall'"
     ]
    }
   ],
   "source": [
    "import data_preprocessing\n",
    "df['Content'] = df['Content'].apply(data_preprocessing.tien_xu_li)"
   ]
  },
  {
   "cell_type": "code",
   "execution_count": null,
   "metadata": {},
   "outputs": [
    {
     "ename": "",
     "evalue": "",
     "output_type": "error",
     "traceback": [
      "\u001b[1;31mRunning cells with 'Python 3.12.3' requires the ipykernel package.\n",
      "\u001b[1;31mRun the following command to install 'ipykernel' into the Python environment. \n",
      "\u001b[1;31mCommand: 'c:/Python312/python.exe -m pip install ipykernel -U --user --force-reinstall'"
     ]
    }
   ],
   "source": [
    "df"
   ]
  },
  {
   "cell_type": "code",
   "execution_count": null,
   "metadata": {},
   "outputs": [
    {
     "ename": "",
     "evalue": "",
     "output_type": "error",
     "traceback": [
      "\u001b[1;31mRunning cells with 'Python 3.12.3' requires the ipykernel package.\n",
      "\u001b[1;31mRun the following command to install 'ipykernel' into the Python environment. \n",
      "\u001b[1;31mCommand: 'c:/Python312/python.exe -m pip install ipykernel -U --user --force-reinstall'"
     ]
    }
   ],
   "source": [
    "from model import load_data, encode_labels, prepare_datasets, create_model, predict_label, get_path\n",
    "# import model\n",
    "from transformers import PhobertTokenizer, TFRobertaForSequenceClassification"
   ]
  },
  {
   "cell_type": "code",
   "execution_count": null,
   "metadata": {},
   "outputs": [
    {
     "ename": "",
     "evalue": "",
     "output_type": "error",
     "traceback": [
      "\u001b[1;31mRunning cells with 'Python 3.12.3' requires the ipykernel package.\n",
      "\u001b[1;31mRun the following command to install 'ipykernel' into the Python environment. \n",
      "\u001b[1;31mCommand: 'c:/Python312/python.exe -m pip install ipykernel -U --user --force-reinstall'"
     ]
    }
   ],
   "source": [
    "file_path = get_path('data_processed.csv')\n",
    "df_model = load_data(file_path)\n",
    "# Mã hóa nhãn\n",
    "df_model, label_to_encoded = encode_labels(df_model)\n",
    "\n",
    "train_dataset, val_dataset, tokenizer = prepare_datasets(df_model)\n",
    "new_model = create_model(num_labels=df_model['encoded_label'].nunique())\n",
    "\n",
    "# # Tạo mô hình mới\n",
    "# new_model = model.create_model()\n",
    "\n",
    "# Khôi phục trọng số từ tệp checkpoint đã lưu\n",
    "new_model.load_weights('./models/model_1.keras')\n"
   ]
  },
  {
   "cell_type": "code",
   "execution_count": null,
   "metadata": {},
   "outputs": [
    {
     "ename": "",
     "evalue": "",
     "output_type": "error",
     "traceback": [
      "\u001b[1;31mRunning cells with 'Python 3.12.3' requires the ipykernel package.\n",
      "\u001b[1;31mRun the following command to install 'ipykernel' into the Python environment. \n",
      "\u001b[1;31mCommand: 'c:/Python312/python.exe -m pip install ipykernel -U --user --force-reinstall'"
     ]
    }
   ],
   "source": [
    "# df['Comment_predict'] = df['Content'].apply(lambda x: predict_label(new_model, tokenizer, x, label_to_encoded))"
   ]
  },
  {
   "cell_type": "code",
   "execution_count": null,
   "metadata": {},
   "outputs": [
    {
     "ename": "",
     "evalue": "",
     "output_type": "error",
     "traceback": [
      "\u001b[1;31mRunning cells with 'Python 3.12.3' requires the ipykernel package.\n",
      "\u001b[1;31mRun the following command to install 'ipykernel' into the Python environment. \n",
      "\u001b[1;31mCommand: 'c:/Python312/python.exe -m pip install ipykernel -U --user --force-reinstall'"
     ]
    }
   ],
   "source": [
    "# df.head()"
   ]
  },
  {
   "cell_type": "code",
   "execution_count": null,
   "metadata": {},
   "outputs": [
    {
     "ename": "",
     "evalue": "",
     "output_type": "error",
     "traceback": [
      "\u001b[1;31mRunning cells with 'Python 3.12.3' requires the ipykernel package.\n",
      "\u001b[1;31mRun the following command to install 'ipykernel' into the Python environment. \n",
      "\u001b[1;31mCommand: 'c:/Python312/python.exe -m pip install ipykernel -U --user --force-reinstall'"
     ]
    }
   ],
   "source": [
    "# Kiểm tra kết quả kết nôi\n",
    "# cursor.execute('''\n",
    " \n",
    "# ''')\n"
   ]
  },
  {
   "cell_type": "code",
   "execution_count": null,
   "metadata": {},
   "outputs": [
    {
     "ename": "",
     "evalue": "",
     "output_type": "error",
     "traceback": [
      "\u001b[1;31mRunning cells with 'Python 3.12.3' requires the ipykernel package.\n",
      "\u001b[1;31mRun the following command to install 'ipykernel' into the Python environment. \n",
      "\u001b[1;31mCommand: 'c:/Python312/python.exe -m pip install ipykernel -U --user --force-reinstall'"
     ]
    }
   ],
   "source": [
    "input_text = 'nan'\n",
    "result = predict_label(new_model, tokenizer,input_text, label_to_encoded)\n",
    "result"
   ]
  },
  {
   "cell_type": "markdown",
   "metadata": {},
   "source": [
    "hướng dẫn sử dụng này\n",
    "1/ pip install  -r requirement  để  cài  thư viện nhá\n",
    "2/ tải models của hiếu về chứ nặng quá t  k  up lên đâu\n",
    "3/ chạy các file \n",
    "    1-  data_preprocessing.py\n",
    "    2- dataLoader.py\n",
    "    3- model\n",
    "4/ m đọc thấy cái input_text với cái tham số input_text  trong hàm predict là ví dụ  của 1 cái comment thì giờ thay thế bằng 1 câu comment là được\n",
    "5/  có gì thì  hú t t đi ngủ đây\n",
    "1:45AM 21/5"
   ]
  },
  {
   "cell_type": "code",
   "execution_count": null,
   "metadata": {},
   "outputs": [
    {
     "ename": "",
     "evalue": "",
     "output_type": "error",
     "traceback": [
      "\u001b[1;31mRunning cells with 'Python 3.12.3' requires the ipykernel package.\n",
      "\u001b[1;31mRun the following command to install 'ipykernel' into the Python environment. \n",
      "\u001b[1;31mCommand: 'c:/Python312/python.exe -m pip install ipykernel -U --user --force-reinstall'"
     ]
    }
   ],
   "source": []
  }
 ],
 "metadata": {
  "kernelspec": {
   "display_name": "Python 3",
   "language": "python",
   "name": "python3"
  },
  "language_info": {
   "codemirror_mode": {
    "name": "ipython",
    "version": 3
   },
   "file_extension": ".py",
   "mimetype": "text/x-python",
   "name": "python",
   "nbconvert_exporter": "python",
   "pygments_lexer": "ipython3",
   "version": "3.12.2"
  }
 },
 "nbformat": 4,
 "nbformat_minor": 2
}
